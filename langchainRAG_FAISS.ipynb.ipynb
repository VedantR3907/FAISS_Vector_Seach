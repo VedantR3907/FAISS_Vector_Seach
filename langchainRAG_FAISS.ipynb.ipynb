{
  "cells": [
    {
      "cell_type": "code",
      "execution_count": 18,
      "metadata": {
        "id": "nc4-0LRiXQgx"
      },
      "outputs": [],
      "source": [
        "import faiss\n",
        "from langchain_community.docstore.in_memory import InMemoryDocstore\n",
        "from langchain_community.vectorstores import FAISS\n",
        "from langchain_text_splitters import RecursiveCharacterTextSplitter\n",
        "from langchain_groq import ChatGroq\n",
        "from langchain_community.embeddings import FakeEmbeddings\n",
        "from uuid import uuid4\n",
        "import numpy as np"
      ]
    },
    {
      "cell_type": "code",
      "execution_count": null,
      "metadata": {},
      "outputs": [],
      "source": [
        "embeddings = FakeEmbeddings(size=4096)"
      ]
    },
    {
      "cell_type": "code",
      "execution_count": 19,
      "metadata": {
        "id": "m77PhwDKYhBk"
      },
      "outputs": [],
      "source": [
        "llm = ChatGroq(model=\"llama-3.1-70b-versatile\", api_key=\"")"
      ]
    },
    {
      "cell_type": "code",
      "execution_count": 20,
      "metadata": {
        "id": "E837bl_vZxCe"
      },
      "outputs": [],
      "source": [
        "d = 4096\n",
        "nlist = 5 # how many cells or how many voronoi cells\n",
        "quantizer = faiss.IndexFlatL2(d)\n",
        "faiss_index = faiss.IndexIVFFlat(quantizer, d, nlist)"
      ]
    },
    {
      "cell_type": "code",
      "execution_count": 32,
      "metadata": {
        "id": "v5XUYIItZ0O0"
      },
      "outputs": [],
      "source": [
        "vector_store = FAISS(\n",
        "    embedding_function=embeddings,\n",
        "    index=faiss_index,\n",
        "    docstore=InMemoryDocstore(),\n",
        "    index_to_docstore_id={},\n",
        ")\n",
        "\n",
        "\n",
        "#You can directly store data into faiss like below method\n",
        "# vector_store = FAISS.from_documents(documents, embeddings = embeddings)"
      ]
    },
    {
      "cell_type": "code",
      "execution_count": 22,
      "metadata": {
        "id": "HzqlTSEHZ1gt"
      },
      "outputs": [],
      "source": [
        "text_splitter = RecursiveCharacterTextSplitter(\n",
        "    # Set a really small chunk size, just to show.\n",
        "    chunk_size=1000,\n",
        "    chunk_overlap=100,\n",
        "    length_function=len,\n",
        "    is_separator_regex=False,\n",
        ")"
      ]
    },
    {
      "cell_type": "code",
      "execution_count": 24,
      "metadata": {
        "id": "A4whmOSoZ2lw"
      },
      "outputs": [],
      "source": [
        "# This is a long document we can split up.\n",
        "with open(\"/content/document.txt\") as f:\n",
        "    doc = f.read()"
      ]
    },
    {
      "cell_type": "code",
      "execution_count": 25,
      "metadata": {
        "id": "a1TVLLjVajLD"
      },
      "outputs": [],
      "source": [
        "texts = text_splitter.create_documents([doc])"
      ]
    },
    {
      "cell_type": "code",
      "execution_count": 26,
      "metadata": {
        "colab": {
          "base_uri": "https://localhost:8080/"
        },
        "id": "7O5D19blaln2",
        "outputId": "ef87c248-7506-4554-8670-45cae847da75"
      },
      "outputs": [
        {
          "name": "stdout",
          "output_type": "stream",
          "text": [
            "8\n"
          ]
        }
      ],
      "source": [
        "print(len(texts))"
      ]
    },
    {
      "cell_type": "code",
      "execution_count": 27,
      "metadata": {
        "colab": {
          "base_uri": "https://localhost:8080/"
        },
        "id": "ednHTPgiamp1",
        "outputId": "53ea946b-7188-40a0-ecfe-18a8bcd6c70e"
      },
      "outputs": [
        {
          "data": {
            "text/plain": [
              "['a8b9bb1a-3a6c-4405-9718-8f30fb4fadad',\n",
              " '65b1d9a9-9e5f-4c61-8ca0-9a8ea391ba3e',\n",
              " '382051e8-25a4-4ee5-a7aa-ae5d6575737e',\n",
              " 'fccaa59c-117c-4b6b-b62c-6e0d9b163377',\n",
              " '85a08d28-492c-4a73-9901-88f37abc1fcf',\n",
              " 'b5c0aed6-0dad-4b63-9f9d-3f172c15fbf9',\n",
              " '87346cd9-ae44-4af7-a09a-be329ba1748c',\n",
              " '0f0de54f-84e1-4e75-84d3-5677ff8fbbb7']"
            ]
          },
          "execution_count": 27,
          "metadata": {},
          "output_type": "execute_result"
        }
      ],
      "source": [
        "uuids = [str(uuid4()) for _ in range(len(texts))]\n",
        "uuids"
      ]
    },
    {
      "cell_type": "code",
      "execution_count": 35,
      "metadata": {
        "id": "EPxhRPKabs1w"
      },
      "outputs": [],
      "source": [
        "train_embeddings = embeddings.embed_documents(texts)\n",
        "train_embeddings = np.array(train_embeddings, dtype=np.float32)"
      ]
    },
    {
      "cell_type": "code",
      "execution_count": null,
      "metadata": {
        "id": "q9sPThxBd9Dx"
      },
      "outputs": [],
      "source": [
        "faiss_index.is_trained"
      ]
    },
    {
      "cell_type": "code",
      "execution_count": 47,
      "metadata": {
        "id": "dbhGMJEPb-Em"
      },
      "outputs": [],
      "source": [
        "#To use the IndexIVFFlat we need to train the faiss_index\n",
        "faiss_index.train(train_embeddings)"
      ]
    },
    {
      "cell_type": "code",
      "execution_count": 48,
      "metadata": {
        "colab": {
          "base_uri": "https://localhost:8080/"
        },
        "id": "P3EWcf5KangL",
        "outputId": "0d697f0d-e67c-440b-b904-2455be8dfd45"
      },
      "outputs": [
        {
          "data": {
            "text/plain": [
              "['a8b9bb1a-3a6c-4405-9718-8f30fb4fadad',\n",
              " '65b1d9a9-9e5f-4c61-8ca0-9a8ea391ba3e',\n",
              " '382051e8-25a4-4ee5-a7aa-ae5d6575737e',\n",
              " 'fccaa59c-117c-4b6b-b62c-6e0d9b163377',\n",
              " '85a08d28-492c-4a73-9901-88f37abc1fcf',\n",
              " 'b5c0aed6-0dad-4b63-9f9d-3f172c15fbf9',\n",
              " '87346cd9-ae44-4af7-a09a-be329ba1748c',\n",
              " '0f0de54f-84e1-4e75-84d3-5677ff8fbbb7']"
            ]
          },
          "execution_count": 48,
          "metadata": {},
          "output_type": "execute_result"
        }
      ],
      "source": [
        "vector_store.add_documents(documents=texts, ids=uuids)"
      ]
    },
    {
      "cell_type": "code",
      "execution_count": 49,
      "metadata": {
        "id": "hXeq02qaa2uR"
      },
      "outputs": [],
      "source": [
        "retriver = vector_store.as_retriever()"
      ]
    },
    {
      "cell_type": "code",
      "execution_count": 50,
      "metadata": {
        "id": "hHGMgf7QcpVL"
      },
      "outputs": [],
      "source": [
        "from langchain.chains import create_retrieval_chain\n",
        "from langchain.chains.combine_documents import create_stuff_documents_chain\n",
        "from langchain_core.prompts import ChatPromptTemplate, MessagesPlaceholder"
      ]
    },
    {
      "cell_type": "code",
      "execution_count": 51,
      "metadata": {
        "id": "umFRx8Mbcrv4"
      },
      "outputs": [],
      "source": [
        "qa_system_prompt = \"\"\"You are an assistant for question-answering tasks. {context}\"\"\"\n",
        "qa_prompt = ChatPromptTemplate.from_messages(\n",
        "    [\n",
        "        (\"system\", qa_system_prompt),\n",
        "        (\"human\", \"{input}\"),\n",
        "    ]\n",
        ")"
      ]
    },
    {
      "cell_type": "code",
      "execution_count": 52,
      "metadata": {
        "id": "tm1m95p5cs-D"
      },
      "outputs": [],
      "source": [
        "question_answer_chain = create_stuff_documents_chain(llm, qa_prompt)\n",
        "rag_chain = create_retrieval_chain(retriver, question_answer_chain)"
      ]
    },
    {
      "cell_type": "code",
      "execution_count": 57,
      "metadata": {
        "id": "oBJ3-GrXcuuk"
      },
      "outputs": [],
      "source": [
        "result = rag_chain.invoke({\"input\":\"What is the research paper he published\"})"
      ]
    },
    {
      "cell_type": "code",
      "execution_count": 58,
      "metadata": {
        "colab": {
          "base_uri": "https://localhost:8080/",
          "height": 105
        },
        "id": "KghkJBsucvYY",
        "outputId": "cdc9b063-6e94-41f0-a6b3-94a54e826569"
      },
      "outputs": [
        {
          "data": {
            "application/vnd.google.colaboratory.intrinsic+json": {
              "type": "string"
            },
            "text/plain": [
              "'The research paper published by the individual is titled \"Human Computer Interaction with Detection of Hand Gesture to Improve Artistic Creativity\". \\n\\nUnfortunately, I couldn\\'t find the full text of the paper as it\\'s not publicly available. However, based on the information provided, it seems that the paper is related to his project \"Hand Sign Language Recognition for American Alphabets, Hindi Varnmala, and Numbers\" with integrated voice modulation.\\n\\nHere is the research paper link mentioned:\\n\\nResearch Paper Link\\nGoogle Drive Link\\n\\nHowever, the actual links are not provided.'"
            ]
          },
          "execution_count": 58,
          "metadata": {},
          "output_type": "execute_result"
        }
      ],
      "source": [
        "result['answer']"
      ]
    }
  ],
  "metadata": {
    "accelerator": "GPU",
    "colab": {
      "gpuType": "T4",
      "provenance": []
    },
    "kernelspec": {
      "display_name": "Python 3",
      "name": "python3"
    },
    "language_info": {
      "name": "python"
    }
  },
  "nbformat": 4,
  "nbformat_minor": 0
}
